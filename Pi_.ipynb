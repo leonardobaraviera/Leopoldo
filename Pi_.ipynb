{
  "nbformat": 4,
  "nbformat_minor": 0,
  "metadata": {
    "colab": {
      "name": "Pi .ipynb",
      "provenance": []
    },
    "kernelspec": {
      "name": "python3",
      "display_name": "Python 3"
    }
  },
  "cells": [
    {
      "cell_type": "code",
      "metadata": {
        "id": "vijg8Xo81yr5",
        "colab": {
          "base_uri": "https://localhost:8080/"
        },
        "outputId": "93daa370-1dba-496a-f5f8-2ab435a59854"
      },
      "source": [
        "PI = 0\n",
        "\n",
        "\n",
        "for i in range(1,500001):\n",
        "  PI = PI + ((-1)**(i+1))/(2*i-1)\n",
        "\n",
        "print(4*PI)"
      ],
      "execution_count": null,
      "outputs": [
        {
          "output_type": "stream",
          "text": [
            "3.141590653589692\n"
          ],
          "name": "stdout"
        }
      ]
    },
    {
      "cell_type": "code",
      "metadata": {
        "id": "hFE7NlDD18fk",
        "colab": {
          "base_uri": "https://localhost:8080/"
        },
        "outputId": "d7294c02-58a2-45de-d9c4-5285869c4e13"
      },
      "source": [
        "PI = 0\n",
        "\n",
        "\n",
        "for i in range(1,500001):\n",
        "  PI = PI + (1/(i**2))*6\n",
        "\n",
        "print(PI**.5)"
      ],
      "execution_count": null,
      "outputs": [
        {
          "output_type": "stream",
          "text": [
            "3.1415907437317436\n"
          ],
          "name": "stdout"
        }
      ]
    },
    {
      "cell_type": "code",
      "metadata": {
        "colab": {
          "base_uri": "https://localhost:8080/"
        },
        "id": "BOAZOTVjRoch",
        "outputId": "ef0f8ef7-bb41-4602-c31a-9fb4b062ef1d"
      },
      "source": [
        "gamma = 0\r\n",
        "\r\n",
        "for i in range(1,11):\r\n",
        "  gamma = gamma + 1/i\r\n",
        "\r\n",
        "print(gamma)"
      ],
      "execution_count": null,
      "outputs": [
        {
          "output_type": "stream",
          "text": [
            "2.9289682539682538\n"
          ],
          "name": "stdout"
        }
      ]
    },
    {
      "cell_type": "code",
      "metadata": {
        "colab": {
          "base_uri": "https://localhost:8080/"
        },
        "id": "Vv7b2wVnU7P0",
        "outputId": "50f4d4fe-05f1-4d65-f94e-1d1d9278a067"
      },
      "source": [
        "import math\r\n",
        "\r\n",
        "\r\n",
        "x = math.log(2.7)\r\n",
        "\r\n",
        "print(x)"
      ],
      "execution_count": null,
      "outputs": [
        {
          "output_type": "stream",
          "text": [
            "0.9932517730102834\n"
          ],
          "name": "stdout"
        }
      ]
    },
    {
      "cell_type": "code",
      "metadata": {
        "colab": {
          "base_uri": "https://localhost:8080/"
        },
        "id": "0Ef2N3YnVyo2",
        "outputId": "1577f405-a4f8-4799-fd80-a22afde2b39b"
      },
      "source": [
        "# The Euler-Mascheroni constant\r\n",
        "\r\n",
        "import math\r\n",
        "\r\n",
        "gamma = 0\r\n",
        "\r\n",
        "n = 500000\r\n",
        "\r\n",
        "for i in range(1,n+1):\r\n",
        "  gamma = gamma + 1/i \r\n",
        "\r\n",
        "print(gamma - math.log(n))"
      ],
      "execution_count": null,
      "outputs": [
        {
          "output_type": "stream",
          "text": [
            "0.5772166649012984\n"
          ],
          "name": "stdout"
        }
      ]
    },
    {
      "cell_type": "code",
      "metadata": {
        "colab": {
          "base_uri": "https://localhost:8080/"
        },
        "id": "YTy9xjOqnxut",
        "outputId": "673069b2-58ae-44b2-ea02-ebf9319a5f7b"
      },
      "source": [
        "# The integral\r\n",
        "\r\n",
        "n = 1000\r\n",
        "\r\n",
        "area = (n*(n+1)*(2*n+1)/6)/(n**3)\r\n",
        "\r\n",
        "print(area)"
      ],
      "execution_count": null,
      "outputs": [
        {
          "output_type": "stream",
          "text": [
            "0.3338335\n"
          ],
          "name": "stdout"
        }
      ]
    },
    {
      "cell_type": "code",
      "metadata": {
        "colab": {
          "base_uri": "https://localhost:8080/"
        },
        "id": "HV5KIJVsp8Hy",
        "outputId": "ee9ed7d2-349c-4ce0-fa76-8fe8b8ee1c0c"
      },
      "source": [
        "# The integral (2)\r\n",
        "\r\n",
        "n = 1000\r\n",
        "\r\n",
        "area = (n*(n+1)/2)/(n**2)\r\n",
        "\r\n",
        "print(area)"
      ],
      "execution_count": null,
      "outputs": [
        {
          "output_type": "stream",
          "text": [
            "0.5005\n"
          ],
          "name": "stdout"
        }
      ]
    },
    {
      "cell_type": "code",
      "metadata": {
        "id": "ZRdsletps3ZT"
      },
      "source": [
        ""
      ],
      "execution_count": null,
      "outputs": []
    }
  ]
}